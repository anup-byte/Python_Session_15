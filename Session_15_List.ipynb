{
 "cells": [
  {
   "cell_type": "code",
   "execution_count": null,
   "id": "4f9316b1",
   "metadata": {},
   "outputs": [],
   "source": [
    "# List comprehensention"
   ]
  },
  {
   "cell_type": "code",
   "execution_count": 1,
   "id": "4f178555",
   "metadata": {},
   "outputs": [
    {
     "name": "stdout",
     "output_type": "stream",
     "text": [
      "[0, 1, 4, 9, 16, 25, 36, 49, 64, 81]\n"
     ]
    }
   ],
   "source": [
    "squres = []\n",
    "\n",
    "for i in range(10):\n",
    "    squres.append(i**2) # list append\n",
    "    \n",
    "print(squres)    "
   ]
  },
  {
   "cell_type": "code",
   "execution_count": 2,
   "id": "1b4870fc",
   "metadata": {},
   "outputs": [
    {
     "data": {
      "text/plain": [
       "[0, 1, 4, 9, 16, 25, 36, 49, 64, 81]"
      ]
     },
     "execution_count": 2,
     "metadata": {},
     "output_type": "execute_result"
    }
   ],
   "source": [
    "[i**2 for i in range(10)]"
   ]
  },
  {
   "cell_type": "code",
   "execution_count": 4,
   "id": "3e0432b1",
   "metadata": {},
   "outputs": [],
   "source": [
    "lst = [-10, -20, 10, 20, 50]\n",
    "\n",
    "#create a new list with the value doubled\n",
    "\n",
    "\n",
    "\n",
    "# filter the list to exclude negative numbers\n",
    "       \n",
    "# create a list of tuples like (number, square_of_number)   \n",
    "\n",
    "\n"
   ]
  },
  {
   "cell_type": "code",
   "execution_count": 5,
   "id": "9f1bc93f",
   "metadata": {},
   "outputs": [
    {
     "data": {
      "text/plain": [
       "[-20, -40, 20, 40, 100]"
      ]
     },
     "execution_count": 5,
     "metadata": {},
     "output_type": "execute_result"
    }
   ],
   "source": [
    "#create a new list with the value doubled\n",
    "[i*2 for i in lst]"
   ]
  },
  {
   "cell_type": "code",
   "execution_count": 7,
   "id": "6088259f",
   "metadata": {},
   "outputs": [
    {
     "data": {
      "text/plain": [
       "[-10, -20]"
      ]
     },
     "execution_count": 7,
     "metadata": {},
     "output_type": "execute_result"
    }
   ],
   "source": [
    "# filter the list to exclude negative numbers\n",
    "\n",
    "[i for i in lst if i <= 0]\n"
   ]
  },
  {
   "cell_type": "code",
   "execution_count": 8,
   "id": "f95e51ff",
   "metadata": {},
   "outputs": [
    {
     "data": {
      "text/plain": [
       "[(-10, 100), (-20, 400), (10, 100), (20, 400), (50, 2500)]"
      ]
     },
     "execution_count": 8,
     "metadata": {},
     "output_type": "execute_result"
    }
   ],
   "source": [
    "# create a list of tuples like (number, square_of_number) \n",
    "\n",
    "[(i, i**2) for i in lst]\n"
   ]
  },
  {
   "cell_type": "code",
   "execution_count": null,
   "id": "f80131fe",
   "metadata": {},
   "outputs": [],
   "source": [
    "# from 0 till 20"
   ]
  },
  {
   "cell_type": "code",
   "execution_count": null,
   "id": "3ff7a7cf",
   "metadata": {},
   "outputs": [],
   "source": [
    "[0,1,2.....20]"
   ]
  },
  {
   "cell_type": "code",
   "execution_count": 10,
   "id": "b611ad4e",
   "metadata": {},
   "outputs": [
    {
     "data": {
      "text/plain": [
       "['Even',\n",
       " 'odd',\n",
       " 'Even',\n",
       " 'odd',\n",
       " 'Even',\n",
       " 'odd',\n",
       " 'Even',\n",
       " 'odd',\n",
       " 'Even',\n",
       " 'odd',\n",
       " 'Even',\n",
       " 'odd',\n",
       " 'Even',\n",
       " 'odd',\n",
       " 'Even',\n",
       " 'odd',\n",
       " 'Even',\n",
       " 'odd',\n",
       " 'Even',\n",
       " 'odd',\n",
       " 'Even']"
      ]
     },
     "execution_count": 10,
     "metadata": {},
     "output_type": "execute_result"
    }
   ],
   "source": [
    "[\"odd\" if i%2 !=0 else \"Even\" for i in range(21)]"
   ]
  },
  {
   "cell_type": "code",
   "execution_count": 11,
   "id": "41c005d6",
   "metadata": {},
   "outputs": [
    {
     "data": {
      "text/plain": [
       "['Even',\n",
       " 'Odd',\n",
       " 'Even',\n",
       " 'Odd',\n",
       " 'Even',\n",
       " 'Odd',\n",
       " 'Even',\n",
       " 'Odd',\n",
       " 'Even',\n",
       " 'Odd',\n",
       " 'Even',\n",
       " 'Odd',\n",
       " 'Even',\n",
       " 'Odd',\n",
       " 'Even',\n",
       " 'Odd',\n",
       " 'Even',\n",
       " 'Odd',\n",
       " 'Even',\n",
       " 'Odd',\n",
       " 'Even']"
      ]
     },
     "execution_count": 11,
     "metadata": {},
     "output_type": "execute_result"
    }
   ],
   "source": [
    "[\"Even\" if i%2 ==0 else \"Odd\" for i in range(21)]"
   ]
  },
  {
   "cell_type": "code",
   "execution_count": 12,
   "id": "11210377",
   "metadata": {},
   "outputs": [
    {
     "data": {
      "text/plain": [
       "[[0, 1, 2], [0, 1, 2], [0, 1, 2]]"
      ]
     },
     "execution_count": 12,
     "metadata": {},
     "output_type": "execute_result"
    }
   ],
   "source": [
    "matrix = []\n",
    "\n",
    "for i in range(3):\n",
    "    matrix.append([])\n",
    "    for j in range(3):\n",
    "        matrix[i].append(j)\n",
    "matrix        "
   ]
  },
  {
   "cell_type": "code",
   "execution_count": 13,
   "id": "2bffe898",
   "metadata": {},
   "outputs": [
    {
     "data": {
      "text/plain": [
       "[[0, 1, 2], [0, 1, 2], [0, 1, 2]]"
      ]
     },
     "execution_count": 13,
     "metadata": {},
     "output_type": "execute_result"
    }
   ],
   "source": [
    "[[j for j in range(3)] for i in range(3)]"
   ]
  },
  {
   "cell_type": "code",
   "execution_count": null,
   "id": "7c5573cd",
   "metadata": {},
   "outputs": [],
   "source": []
  },
  {
   "cell_type": "code",
   "execution_count": null,
   "id": "67702f04",
   "metadata": {},
   "outputs": [],
   "source": []
  },
  {
   "cell_type": "code",
   "execution_count": null,
   "id": "b706b8bf",
   "metadata": {},
   "outputs": [],
   "source": []
  },
  {
   "cell_type": "code",
   "execution_count": null,
   "id": "6cf1b8a6",
   "metadata": {},
   "outputs": [],
   "source": []
  },
  {
   "cell_type": "code",
   "execution_count": null,
   "id": "6dc3edf9",
   "metadata": {},
   "outputs": [],
   "source": []
  }
 ],
 "metadata": {
  "kernelspec": {
   "display_name": "Python 3 (ipykernel)",
   "language": "python",
   "name": "python3"
  },
  "language_info": {
   "codemirror_mode": {
    "name": "ipython",
    "version": 3
   },
   "file_extension": ".py",
   "mimetype": "text/x-python",
   "name": "python",
   "nbconvert_exporter": "python",
   "pygments_lexer": "ipython3",
   "version": "3.11.4"
  }
 },
 "nbformat": 4,
 "nbformat_minor": 5
}
